{
  "nbformat": 4,
  "nbformat_minor": 0,
  "metadata": {
    "colab": {
      "name": "Untitled0.ipynb",
      "provenance": []
    },
    "kernelspec": {
      "name": "python3",
      "display_name": "Python 3"
    },
    "language_info": {
      "name": "python"
    }
  },
  "cells": [
    {
      "cell_type": "code",
      "execution_count": null,
      "metadata": {
        "id": "5CQGRyo2hEos"
      },
      "outputs": [],
      "source": [
        "!pip install python-binance"
      ]
    },
    {
      "cell_type": "code",
      "source": [
        "from binance import Client\n",
        "import pandas as pd"
      ],
      "metadata": {
        "id": "w_yT57cQhLHh"
      },
      "execution_count": 2,
      "outputs": []
    },
    {
      "cell_type": "code",
      "source": [
        "#Fill in your Binance API Key inside the ''\n",
        "api_key = ''\n",
        "#Fill in your Binance API Secret Key inside the ''\n",
        "api_secret = ''\n",
        "client = Client(api_key, api_secret)\n",
        "client.get_account()"
      ],
      "metadata": {
        "id": "16UNHzXshQGG"
      },
      "execution_count": null,
      "outputs": []
    },
    {
      "cell_type": "code",
      "source": [
        "# Chart\n",
        "test = getminutedata(\"BTCUSDT\", \"1h\", \"15\")\n",
        "test.Open.plot()"
      ],
      "metadata": {
        "id": "Dzb1YNwniLTD"
      },
      "execution_count": null,
      "outputs": []
    },
    {
      "cell_type": "code",
      "source": [
        "# Buy if asset fell by more than 0.2% within the last 30min\n",
        "# Sell asset if rises by more than 0.2% or falls further by 0.15%"
      ],
      "metadata": {
        "id": "Ctsxfpc-hwDc"
      },
      "execution_count": 3,
      "outputs": []
    },
    {
      "cell_type": "code",
      "source": [
        "def strategytest(symbol,qty, entried=False):\n",
        "  df = getminutedata(symbol, \"1m\", \"30m\")\n",
        "  cumulret = (df.Open.pct_change() +1).cumprod() - 1\n",
        "  if not entried:\n",
        "    if cumulret[-1] < -0.0025:\n",
        "      order = client.create_order(symbol=symbol, side=\"BUY\", type=\"MARKET\", quantity=qty)\n",
        "      print(order)\n",
        "      entried=True\n",
        "    else:\n",
        "      print(\"No Trade has been executed\")\n",
        "  if entried:\n",
        "    while True:\n",
        "      df = getminutedata(symbol, \"1m\", \"30m\")\n",
        "      sincebuy = df.loc[df.index > pd.to_datetime(order[\"transactTime\"], unit=\"ms\")]\n",
        "      if len(sincebuy) > 0:\n",
        "        sincebuyret =  (sincebuy.Open.pct_change() +1).cumprod() - 1\n",
        "        if sincebuyret[-1] > 0.0015 or sincebuyret[-1] < -0.0015:\n",
        "          order = client.create_order(symbol=symbol, side=\"SELL\", type=\"MARKET\", quantity=qty)\n",
        "          print(order)\n",
        "          break"
      ],
      "metadata": {
        "id": "iePuyB8dhv59"
      },
      "execution_count": null,
      "outputs": []
    },
    {
      "cell_type": "code",
      "source": [
        "# You can replace BTCUSDT to any asset pair that are available in Binance, replace 0.0004 with any amount worth > $10\n",
        "strategytest(\"BTCUSDT\", 0.0004)"
      ],
      "metadata": {
        "id": "BImSYNSDhvuO"
      },
      "execution_count": null,
      "outputs": []
    },
    {
      "cell_type": "code",
      "source": [
        ""
      ],
      "metadata": {
        "id": "vsnkDfnshvWs"
      },
      "execution_count": null,
      "outputs": []
    }
  ]
}